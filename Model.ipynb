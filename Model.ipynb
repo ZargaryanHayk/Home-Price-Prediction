{
 "cells": [
  {
   "cell_type": "code",
   "execution_count": 62,
   "id": "712e42be",
   "metadata": {},
   "outputs": [
    {
     "name": "stdout",
     "output_type": "stream",
     "text": [
      "      Unnamed: 0.1  Unnamed: 0  Room  Idex_name     Price    s  max_floor  \\\n",
      "0               96          96     4          0  135000.0  107         14   \n",
      "1               97          97     3          0  150000.0   74          9   \n",
      "2               98          98     2          0   95000.0   40          9   \n",
      "3               99          99     3          0   99000.0   70         16   \n",
      "4              100         100     3          0  174000.0   98          9   \n",
      "...            ...         ...   ...        ...       ...  ...        ...   \n",
      "4468          4699        4699     3         10  130000.0   87         14   \n",
      "4469          4700        4700     3         10  122000.0   97          9   \n",
      "4470          4701        4701     4         10  170000.0   96         10   \n",
      "4471          4702        4702     3         10   86000.0   74          9   \n",
      "4472          4703        4703     2         10   75000.0   50          4   \n",
      "\n",
      "      Main_floor  \n",
      "0           13.0  \n",
      "1            2.0  \n",
      "2            2.0  \n",
      "3           13.0  \n",
      "4            2.0  \n",
      "...          ...  \n",
      "4468         6.0  \n",
      "4469         4.0  \n",
      "4470         4.0  \n",
      "4471         7.0  \n",
      "4472         2.0  \n",
      "\n",
      "[4473 rows x 8 columns]\n",
      "      Idex_name     Price    s  max_floor  Main_floor\n",
      "0             0  135000.0  107         14        13.0\n",
      "1             0  150000.0   74          9         2.0\n",
      "2             0   95000.0   40          9         2.0\n",
      "3             0   99000.0   70         16        13.0\n",
      "4             0  174000.0   98          9         2.0\n",
      "...         ...       ...  ...        ...         ...\n",
      "4468         10  130000.0   87         14         6.0\n",
      "4469         10  122000.0   97          9         4.0\n",
      "4470         10  170000.0   96         10         4.0\n",
      "4471         10   86000.0   74          9         7.0\n",
      "4472         10   75000.0   50          4         2.0\n",
      "\n",
      "[4473 rows x 5 columns]\n",
      "      Main_floor  Idex_name     Price\n",
      "0           13.0          0  135000.0\n",
      "1            2.0          0  150000.0\n",
      "2            2.0          0   95000.0\n",
      "3           13.0          0   99000.0\n",
      "4            2.0          0  174000.0\n",
      "...          ...        ...       ...\n",
      "4468         6.0         10  130000.0\n",
      "4469         4.0         10  122000.0\n",
      "4470         4.0         10  170000.0\n",
      "4471         7.0         10   86000.0\n",
      "4472         2.0         10   75000.0\n",
      "\n",
      "[4473 rows x 3 columns]\n",
      "      Main_floor  Idex_name\n",
      "0           13.0          0\n",
      "1            2.0          0\n",
      "2            2.0          0\n",
      "3           13.0          0\n",
      "4            2.0          0\n",
      "...          ...        ...\n",
      "4468         6.0         10\n",
      "4469         4.0         10\n",
      "4470         4.0         10\n",
      "4471         7.0         10\n",
      "4472         2.0         10\n",
      "\n",
      "[4473 rows x 2 columns]\n",
      "Mean Squared Error: 2782514505.6994944\n",
      "-0.07560921343477789 r2\n",
      "Model Coefficients:\n",
      "Feature 1: 1540.4167173793796\n",
      "Feature 2: -3073.3243209072184\n"
     ]
    }
   ],
   "source": [
    "from sklearn.linear_model import Lasso\n",
    "from sklearn.preprocessing import StandardScaler\n",
    "from sklearn.datasets import make_regression\n",
    "from sklearn.model_selection import train_test_split\n",
    "from sklearn.metrics import mean_squared_error ,  r2_score\n",
    "import pandas as pd \n",
    "import pickle\n",
    "\n",
    "\n",
    "\n",
    "df =  pd.read_csv(\"data_dropna.csv\")\n",
    "print(df)\n",
    "drop_list = ['Unnamed: 0.1', 'Unnamed: 0','Room' ]\n",
    "df = df.drop(columns=drop_list)\n",
    "print(df)\n",
    "df = df[['Main_floor','Idex_name', 'Price']]\n",
    "\n",
    "print(df)\n",
    "\n",
    "\n",
    "\n",
    "\n",
    "X = df.iloc[:, :-1]\n",
    "print(X)\n",
    "y = df.iloc[:, -1] \n",
    "\n",
    "\n",
    "X_train, X_test, y_train, y_test = train_test_split(X, y, test_size=0.2, random_state=42)\n",
    "\n",
    "X_train = X_train.to_numpy()\n",
    "X_test = X_test.to_numpy()\n",
    "y_train = y_train.to_numpy()\n",
    "y_test = y_test.to_numpy()\n",
    "\n",
    "\n",
    "\n",
    "\n",
    "scaler = StandardScaler()\n",
    "X_train_scaled = scaler.fit_transform(X_train)\n",
    "X_test_scaled = scaler.transform(X_test)\n",
    "\n",
    "\n",
    "\n",
    "\n",
    "lasso_model = Lasso(alpha=0.01)  \n",
    "\n",
    "\n",
    "lasso_model.fit(X_train_scaled, y_train)\n",
    "\n",
    "\n",
    "y_pred = lasso_model.predict(X_test)\n",
    "\n",
    "\n",
    "mse = mean_squared_error(y_test, y_pred)\n",
    "print(f\"Mean Squared Error: {mse}\")\n",
    "r2 = r2_score(y_test, y_pred)\n",
    "print(r2,'r2')\n",
    "\n",
    "print(\"Model Coefficients:\")\n",
    "for feature, coefficient in zip(range(1, X.shape[1]+1), lasso_model.coef_):\n",
    "    print(f\"Feature {feature}: {coefficient}\")\n",
    "    \n",
    "with open('lasso_model_new_2.pkl', 'wb') as model_file:\n",
    "    pickle.dump(lasso_model, model_file)\n"
   ]
  },
  {
   "cell_type": "code",
   "execution_count": 28,
   "id": "98824140",
   "metadata": {},
   "outputs": [
    {
     "data": {
      "text/plain": [
       "array([[ 0.09231386, -1.37381492,  0.36665225,  0.37187313, -0.81510969],\n",
       "       [-0.27219494,  0.92460621,  0.36665225,  0.2835877 ,  1.15192945],\n",
       "       [-0.27219494, -0.79920964, -0.79319797, -0.20198215,  1.15192945],\n",
       "       ...,\n",
       "       [ 2.27936668,  0.35000093,  1.52650246,  1.34301284,  0.49624973],\n",
       "       [-0.27219494, -0.22460436,  0.36665225,  0.01873142, -1.4707894 ],\n",
       "       [ 0.82133147,  1.4992115 ,  0.36665225,  1.16644198,  0.49624973]])"
      ]
     },
     "execution_count": 28,
     "metadata": {},
     "output_type": "execute_result"
    }
   ],
   "source": [
    "X_test_scaled"
   ]
  },
  {
   "cell_type": "code",
   "execution_count": 61,
   "id": "d82fcd02",
   "metadata": {},
   "outputs": [
    {
     "name": "stdout",
     "output_type": "stream",
     "text": [
      "[[5 0]]\n"
     ]
    },
    {
     "data": {
      "text/plain": [
       "array([118095.9874438])"
      ]
     },
     "execution_count": 61,
     "metadata": {},
     "output_type": "execute_result"
    }
   ],
   "source": [
    "import numpy as np\n",
    "# Max_floor  Main_floor  Room   S  Idex_name\n",
    "arr = np.array([5,0])\n",
    "arr = arr.reshape(1,-1)\n",
    "print(arr)\n",
    "lasso_model.predict(arr)"
   ]
  },
  {
   "cell_type": "code",
   "execution_count": 49,
   "id": "413ea083",
   "metadata": {},
   "outputs": [
    {
     "name": "stdout",
     "output_type": "stream",
     "text": [
      "[928835.11194269]\n"
     ]
    }
   ],
   "source": [
    "with open(\"C:\\\\Users\\\\haykz\\\\OneDrive\\\\Desktop\\\\StartUp\\\\StartUp\\\\lasso_model_new_2.pkl\", 'rb') as model_file:\n",
    "    predict_price = pickle.load(model_file)\n",
    "    price = predict_price.predict(arr)\n",
    "    print(price)\n"
   ]
  },
  {
   "cell_type": "code",
   "execution_count": null,
   "id": "7bfa72f6",
   "metadata": {},
   "outputs": [],
   "source": []
  }
 ],
 "metadata": {
  "kernelspec": {
   "display_name": "Python 3 (ipykernel)",
   "language": "python",
   "name": "python3"
  },
  "language_info": {
   "codemirror_mode": {
    "name": "ipython",
    "version": 3
   },
   "file_extension": ".py",
   "mimetype": "text/x-python",
   "name": "python",
   "nbconvert_exporter": "python",
   "pygments_lexer": "ipython3",
   "version": "3.11.5"
  }
 },
 "nbformat": 4,
 "nbformat_minor": 5
}
